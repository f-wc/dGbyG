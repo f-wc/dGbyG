{
 "cells": [
  {
   "cell_type": "markdown",
   "id": "8a6c68a9",
   "metadata": {},
   "source": [
    "### Tutorial of dGbyG\n",
    "Here is a quick example showing how to get standard Gibbs energy change for a metabolic reaction:\n",
    "\n",
    "#### 1. All metabolite IDs are of the same type."
   ]
  },
  {
   "cell_type": "code",
   "execution_count": 17,
   "id": "cfb4ea77",
   "metadata": {},
   "outputs": [
    {
     "name": "stdout",
     "output_type": "stream",
     "text": [
      "Transformed standard Gibbs energy change: 21.879600524902344 +- 0.4460868835449219 kJ/mol\n"
     ]
    }
   ],
   "source": [
    "# import package\n",
    "from dGbyG.api import Reaction\n",
    "\n",
    "# SMILES\n",
    "equation = 'O=P(O)(O)OC[C@H]1OC(O)(COP(=O)(O)O)[C@@H](O)[C@@H]1O = O=C(CO)COP(=O)(O)O + [H]C(=O)[C@H](O)COP(=O)(O)O'\n",
    "reaction = Reaction(equation, cids_type='SMILES')\n",
    "\n",
    "dG, uncertainty_of_dG = reaction.transformed_standard_dGr_prime\n",
    "print(f'Transformed standard Gibbs energy change: {dG} +- {uncertainty_of_dG} kJ/mol')"
   ]
  },
  {
   "cell_type": "code",
   "execution_count": 18,
   "id": "f36d5502",
   "metadata": {},
   "outputs": [
    {
     "name": "stdout",
     "output_type": "stream",
     "text": [
      "Transformed standard Gibbs energy change: 21.87960433959961 +- 0.44609183073043823 kJ/mol\n"
     ]
    }
   ],
   "source": [
    "# import package\n",
    "from dGbyG.api import Reaction\n",
    "\n",
    "# KEGG compound ID\n",
    "equation = 'C00354 <=> C00111 + C00118'\n",
    "reaction = Reaction(equation, cids_type='kegg')\n",
    "\n",
    "dG, uncertainty_of_dG = reaction.transformed_standard_dGr_prime\n",
    "print(f'Transformed standard Gibbs energy change: {dG} +- {uncertainty_of_dG} kJ/mol')"
   ]
  },
  {
   "cell_type": "markdown",
   "id": "4d111057",
   "metadata": {},
   "source": [
    "#### 2. The IDs of the metabolites are of different types.\n",
    "Pass metabolites in the format of `cidtype:cid`."
   ]
  },
  {
   "cell_type": "code",
   "execution_count": 21,
   "id": "1db0e9f0",
   "metadata": {},
   "outputs": [
    {
     "name": "stdout",
     "output_type": "stream",
     "text": [
      "Transformed standard Gibbs energy change: 21.879600524902344 +- 0.44609421491622925 kJ/mol\n"
     ]
    }
   ],
   "source": [
    "# import package\n",
    "from dGbyG.api import Reaction\n",
    "\n",
    "# With different metabolites IDs\n",
    "equation = 'CHEBI:37736 = SMILES:O=C(CO)COP(=O)(O)O + kegg:C00118'\n",
    "reaction = Reaction(equation)\n",
    "\n",
    "dG, uncertainty_of_dG = reaction.transformed_standard_dGr_prime\n",
    "print(f'Transformed standard Gibbs energy change: {dG} +- {uncertainty_of_dG} kJ/mol')"
   ]
  },
  {
   "cell_type": "code",
   "execution_count": null,
   "id": "836d9e5d",
   "metadata": {},
   "outputs": [],
   "source": []
  }
 ],
 "metadata": {
  "kernelspec": {
   "display_name": "dGbyG",
   "language": "python",
   "name": "python3"
  },
  "language_info": {
   "codemirror_mode": {
    "name": "ipython",
    "version": 3
   },
   "file_extension": ".py",
   "mimetype": "text/x-python",
   "name": "python",
   "nbconvert_exporter": "python",
   "pygments_lexer": "ipython3",
   "version": "3.13.7"
  }
 },
 "nbformat": 4,
 "nbformat_minor": 5
}
